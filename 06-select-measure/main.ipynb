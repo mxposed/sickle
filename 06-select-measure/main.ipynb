{
 "cells": [
  {
   "cell_type": "code",
   "execution_count": 1,
   "metadata": {},
   "outputs": [],
   "source": [
    "import pandas as pd\n",
    "import sklearn.metrics\n",
    "import numpy as np\n",
    "import dit\n",
    "from functools import wraps"
   ]
  },
  {
   "cell_type": "code",
   "execution_count": 2,
   "metadata": {},
   "outputs": [],
   "source": [
    "def results_matrix(x, y):\n",
    "    res = pd.DataFrame(index=sorted(x.unique()), columns=sorted(y.unique()))\n",
    "    for i in res.index:\n",
    "        res.loc[i,:] = y[(x[x == i]).index].value_counts(sort=False).sort_index()\n",
    "    return res.fillna(0)"
   ]
  },
  {
   "cell_type": "code",
   "execution_count": 3,
   "metadata": {},
   "outputs": [],
   "source": [
    "def van_dongen(x, y):\n",
    "    m = results_matrix(x, y)\n",
    "    n = m.sum().sum()\n",
    "    sum1 = np.sum((m.loc[i, :].max() for i in m.index))\n",
    "    sum2 = np.sum((m.loc[:, i].max() for i in m.columns))\n",
    "    return 2 * n - sum1 - sum2"
   ]
  },
  {
   "cell_type": "code",
   "execution_count": 4,
   "metadata": {},
   "outputs": [],
   "source": [
    "def variation_of_information(x, y):\n",
    "    m = results_matrix(x, y)\n",
    "    pmf = []\n",
    "    outs = []\n",
    "    n = m.sum().sum()\n",
    "    for i in m.index:\n",
    "        for j in m.columns:\n",
    "            p_i_j = m.loc[i, j] / n\n",
    "            outs.append((i, j))\n",
    "            pmf.append(p_i_j)\n",
    "    dist = dit.Distribution(outs, pmf=pmf)\n",
    "    x_ent = dit.shannon.entropy(dist, rvs=[0])\n",
    "    y_ent = dit.shannon.entropy(dist, rvs=[1])\n",
    "    mutual_info = dit.shannon.mutual_information(dist, rvs_X=[0], rvs_Y=[1])\n",
    "    return x_ent + y_ent - 2 * mutual_info"
   ]
  },
  {
   "cell_type": "code",
   "execution_count": 5,
   "metadata": {},
   "outputs": [],
   "source": [
    "def map_score(x, y):\n",
    "    m = results_matrix(x, y)\n",
    "    left_score = 0\n",
    "    for i in m.index:\n",
    "        max_idx = m.loc[i, :].idxmax()\n",
    "        left_score += (np.sum(m.loc[i, :]) - m.loc[i, max_idx]) / m.loc[i, max_idx]\n",
    "    left_score = left_score / m.shape[0] / (m.shape[1] - 1) / 2\n",
    "    \n",
    "    right_score = 0\n",
    "    for i in m.columns:\n",
    "        max_idx = m.loc[:,i].idxmax()\n",
    "        right_score += (np.sum(m.loc[:, i]) - m.loc[max_idx, i]) / m.loc[max_idx, i]\n",
    "    right_score = right_score / m.shape[1] / (m.shape[0] - 1) / 2\n",
    "    return left_score + right_score"
   ]
  },
  {
   "cell_type": "code",
   "execution_count": 6,
   "metadata": {},
   "outputs": [],
   "source": [
    "MEASURE_NAMES = ['adjusted_rand_score', \n",
    "            'adjusted_mutual_info_score', \n",
    "            'normalized_mutual_info_score',\n",
    "            'fowlkes_mallows_score',\n",
    "            'jaccard_similarity_score',\n",
    "           ]\n",
    "MEASURES = list(map(lambda x: getattr(sklearn.metrics, x), MEASURE_NAMES)) + \\\n",
    "           [van_dongen, variation_of_information, map_score]"
   ]
  },
  {
   "cell_type": "code",
   "execution_count": 7,
   "metadata": {},
   "outputs": [],
   "source": [
    "clusters = pd.read_csv('../01-cluster-sc01-sc02/SC01_assgn.csv')\n",
    "clusters.columns = ['Cell', 'Cluster']\n",
    "clusters.set_index('Cell', inplace=True)"
   ]
  },
  {
   "cell_type": "code",
   "execution_count": 8,
   "metadata": {},
   "outputs": [
    {
     "data": {
      "text/plain": [
       "0     1255\n",
       "1      819\n",
       "2      789\n",
       "3      721\n",
       "4      445\n",
       "5      410\n",
       "6      311\n",
       "7      281\n",
       "8      272\n",
       "9      214\n",
       "10     202\n",
       "11     197\n",
       "12     186\n",
       "13     177\n",
       "14     165\n",
       "15      89\n",
       "16      78\n",
       "17      55\n",
       "Name: Cluster, dtype: int64"
      ]
     },
     "execution_count": 8,
     "metadata": {},
     "output_type": "execute_result"
    }
   ],
   "source": [
    "clusters.Cluster.value_counts()"
   ]
  },
  {
   "cell_type": "code",
   "execution_count": 9,
   "metadata": {},
   "outputs": [],
   "source": [
    "def frac_size(sample, frac):\n",
    "    return len(sample.sample(frac=frac))"
   ]
  },
  {
   "cell_type": "code",
   "execution_count": 10,
   "metadata": {},
   "outputs": [],
   "source": [
    "def on_some(func, selector):\n",
    "    @wraps(func)\n",
    "    def inner(clusters, frac=0.1):\n",
    "        exp = clusters.copy()\n",
    "        idx = exp[selector(exp)].sample(n=frac_size(clusters, frac)).index\n",
    "        return func(exp, idx)\n",
    "    return inner\n",
    "\n",
    "def on_all(func):\n",
    "    return on_some(func, lambda exp: exp.index)\n",
    "\n",
    "def on_big(func):\n",
    "    return on_some(func, lambda exp: exp < BIG)\n",
    "\n",
    "def on_small(func):\n",
    "    return on_some(func, lambda exp: exp > SMALL)"
   ]
  },
  {
   "cell_type": "code",
   "execution_count": 11,
   "metadata": {},
   "outputs": [],
   "source": [
    "@on_all\n",
    "def rename(exp, idx):\n",
    "    exp[exp.index] += 18\n",
    "    return exp"
   ]
  },
  {
   "cell_type": "code",
   "execution_count": 12,
   "metadata": {},
   "outputs": [],
   "source": [
    "@on_all\n",
    "def mistakes_all(exp, idx):\n",
    "    exp[idx] -= 1\n",
    "    exp[exp == -1] = 17\n",
    "    return exp"
   ]
  },
  {
   "cell_type": "code",
   "execution_count": 13,
   "metadata": {},
   "outputs": [],
   "source": [
    "@on_big\n",
    "def mistakes_big(exp, idx):\n",
    "    exp[idx] -= 1\n",
    "    exp[exp == -1] = 17\n",
    "    return exp"
   ]
  },
  {
   "cell_type": "code",
   "execution_count": 14,
   "metadata": {},
   "outputs": [],
   "source": [
    "@on_small\n",
    "def mistakes_small(exp, idx):\n",
    "    exp[idx] -= 1\n",
    "    return exp"
   ]
  },
  {
   "cell_type": "code",
   "execution_count": 15,
   "metadata": {},
   "outputs": [],
   "source": [
    "@on_all\n",
    "def splits_all(exp, idx):\n",
    "    exp[idx] += 18\n",
    "    return exp"
   ]
  },
  {
   "cell_type": "code",
   "execution_count": 16,
   "metadata": {},
   "outputs": [],
   "source": [
    "@on_big\n",
    "def splits_big(exp, idx):\n",
    "    exp[idx] += 18\n",
    "    return exp"
   ]
  },
  {
   "cell_type": "code",
   "execution_count": 17,
   "metadata": {},
   "outputs": [],
   "source": [
    "@on_small\n",
    "def splits_small(exp, idx):\n",
    "    exp[idx] += 18\n",
    "    return exp"
   ]
  },
  {
   "cell_type": "code",
   "execution_count": 18,
   "metadata": {},
   "outputs": [],
   "source": [
    "@on_all\n",
    "def unites_all(exp, idx):\n",
    "    exp[idx] += 18\n",
    "    exp[(exp > 17) & (exp % 2 == 1)] -= 1\n",
    "    return exp"
   ]
  },
  {
   "cell_type": "code",
   "execution_count": 19,
   "metadata": {},
   "outputs": [],
   "source": [
    "@on_big\n",
    "def unites_big(exp, idx):\n",
    "    exp[idx] += 18\n",
    "    exp[(exp > 17) & (exp % 2 == 1)] -= 1\n",
    "    return exp"
   ]
  },
  {
   "cell_type": "code",
   "execution_count": 20,
   "metadata": {},
   "outputs": [],
   "source": [
    "@on_small\n",
    "def unites_small(exp, idx):\n",
    "    exp[idx] += 18\n",
    "    exp[(exp > 17) & (exp % 2 == 1)] -= 1\n",
    "    return exp"
   ]
  },
  {
   "cell_type": "code",
   "execution_count": 21,
   "metadata": {},
   "outputs": [],
   "source": [
    "@on_all\n",
    "def splits_unites_all(exp, idx):\n",
    "    exp[idx] += 18\n",
    "    exp[(exp > 17) & (exp % 4).isin((1,))] -= 1\n",
    "    return exp"
   ]
  },
  {
   "cell_type": "code",
   "execution_count": 22,
   "metadata": {},
   "outputs": [],
   "source": [
    "@on_big\n",
    "def splits_unites_big(exp, idx):\n",
    "    exp[idx] += 18\n",
    "    exp[(exp > 17) & (exp % 4).isin((1,))] -= 1\n",
    "    return exp"
   ]
  },
  {
   "cell_type": "code",
   "execution_count": 23,
   "metadata": {},
   "outputs": [],
   "source": [
    "@on_small\n",
    "def splits_unites_small(exp, idx):\n",
    "    exp[idx] += 18\n",
    "    exp[(exp > 17) & (exp % 4).isin((1,))] -= 1\n",
    "    return exp"
   ]
  },
  {
   "cell_type": "code",
   "execution_count": 24,
   "metadata": {},
   "outputs": [],
   "source": [
    "EXPERIMENTS = [\n",
    "    'rename',\n",
    "    'mistakes_all',\n",
    "    'mistakes_big',\n",
    "    'mistakes_small',\n",
    "    'splits_all',\n",
    "    'splits_big',\n",
    "    'splits_small',\n",
    "    'unites_all',\n",
    "    'unites_big',\n",
    "    'unites_small',\n",
    "    'splits_unites_all',\n",
    "    'splits_unites_big',\n",
    "    'splits_unites_small',\n",
    "]"
   ]
  },
  {
   "cell_type": "code",
   "execution_count": 25,
   "metadata": {},
   "outputs": [],
   "source": [
    "BIG = 4\n",
    "SMALL = 9\n",
    "for key in EXPERIMENTS:\n",
    "    clusters[key] = locals()[key](clusters.Cluster, frac=0.1)"
   ]
  },
  {
   "cell_type": "code",
   "execution_count": 26,
   "metadata": {},
   "outputs": [],
   "source": [
    "results = pd.DataFrame(index=[x.__name__ for x in MEASURES])\n",
    "for key in EXPERIMENTS:\n",
    "    res = []\n",
    "    for measure in MEASURES:\n",
    "        res.append(measure(clusters.Cluster, clusters[key]))\n",
    "    results[key] = res"
   ]
  },
  {
   "cell_type": "code",
   "execution_count": 27,
   "metadata": {},
   "outputs": [
    {
     "data": {
      "text/html": [
       "<div>\n",
       "<style scoped>\n",
       "    .dataframe tbody tr th:only-of-type {\n",
       "        vertical-align: middle;\n",
       "    }\n",
       "\n",
       "    .dataframe tbody tr th {\n",
       "        vertical-align: top;\n",
       "    }\n",
       "\n",
       "    .dataframe thead th {\n",
       "        text-align: right;\n",
       "    }\n",
       "</style>\n",
       "<table border=\"1\" class=\"dataframe\">\n",
       "  <thead>\n",
       "    <tr style=\"text-align: right;\">\n",
       "      <th></th>\n",
       "      <th>rename</th>\n",
       "      <th>mistakes_all</th>\n",
       "      <th>mistakes_big</th>\n",
       "      <th>mistakes_small</th>\n",
       "      <th>splits_all</th>\n",
       "      <th>splits_big</th>\n",
       "      <th>splits_small</th>\n",
       "      <th>unites_all</th>\n",
       "      <th>unites_big</th>\n",
       "      <th>unites_small</th>\n",
       "      <th>splits_unites_all</th>\n",
       "      <th>splits_unites_big</th>\n",
       "      <th>splits_unites_small</th>\n",
       "    </tr>\n",
       "  </thead>\n",
       "  <tbody>\n",
       "    <tr>\n",
       "      <th>adjusted_rand_score</th>\n",
       "      <td>1.0</td>\n",
       "      <td>0.818480</td>\n",
       "      <td>0.766572</td>\n",
       "      <td>0.971127</td>\n",
       "      <td>0.892631</td>\n",
       "      <td>0.850640</td>\n",
       "      <td>0.987858</td>\n",
       "      <td>0.885222</td>\n",
       "      <td>0.835223</td>\n",
       "      <td>0.980030</td>\n",
       "      <td>0.889731</td>\n",
       "      <td>0.844269</td>\n",
       "      <td>0.983129</td>\n",
       "    </tr>\n",
       "    <tr>\n",
       "      <th>adjusted_mutual_info_score</th>\n",
       "      <td>1.0</td>\n",
       "      <td>0.874564</td>\n",
       "      <td>0.901472</td>\n",
       "      <td>0.947082</td>\n",
       "      <td>0.886708</td>\n",
       "      <td>0.908236</td>\n",
       "      <td>0.956129</td>\n",
       "      <td>0.884372</td>\n",
       "      <td>0.906053</td>\n",
       "      <td>0.955236</td>\n",
       "      <td>0.885610</td>\n",
       "      <td>0.907283</td>\n",
       "      <td>0.955517</td>\n",
       "    </tr>\n",
       "    <tr>\n",
       "      <th>normalized_mutual_info_score</th>\n",
       "      <td>1.0</td>\n",
       "      <td>0.880436</td>\n",
       "      <td>0.912824</td>\n",
       "      <td>0.950925</td>\n",
       "      <td>0.942604</td>\n",
       "      <td>0.953488</td>\n",
       "      <td>0.978100</td>\n",
       "      <td>0.928647</td>\n",
       "      <td>0.939876</td>\n",
       "      <td>0.964681</td>\n",
       "      <td>0.936515</td>\n",
       "      <td>0.947609</td>\n",
       "      <td>0.970574</td>\n",
       "    </tr>\n",
       "    <tr>\n",
       "      <th>fowlkes_mallows_score</th>\n",
       "      <td>1.0</td>\n",
       "      <td>0.835602</td>\n",
       "      <td>0.788575</td>\n",
       "      <td>0.973900</td>\n",
       "      <td>0.906232</td>\n",
       "      <td>0.871143</td>\n",
       "      <td>0.989062</td>\n",
       "      <td>0.899118</td>\n",
       "      <td>0.855434</td>\n",
       "      <td>0.981932</td>\n",
       "      <td>0.903452</td>\n",
       "      <td>0.864760</td>\n",
       "      <td>0.984747</td>\n",
       "    </tr>\n",
       "    <tr>\n",
       "      <th>jaccard_similarity_score</th>\n",
       "      <td>0.0</td>\n",
       "      <td>0.899940</td>\n",
       "      <td>0.899940</td>\n",
       "      <td>0.899940</td>\n",
       "      <td>0.899940</td>\n",
       "      <td>0.899940</td>\n",
       "      <td>0.899940</td>\n",
       "      <td>0.899940</td>\n",
       "      <td>0.899940</td>\n",
       "      <td>0.899940</td>\n",
       "      <td>0.899940</td>\n",
       "      <td>0.899940</td>\n",
       "      <td>0.899940</td>\n",
       "    </tr>\n",
       "    <tr>\n",
       "      <th>van_dongen</th>\n",
       "      <td>0.0</td>\n",
       "      <td>1265.000000</td>\n",
       "      <td>1143.000000</td>\n",
       "      <td>1032.000000</td>\n",
       "      <td>667.000000</td>\n",
       "      <td>667.000000</td>\n",
       "      <td>482.000000</td>\n",
       "      <td>958.000000</td>\n",
       "      <td>935.000000</td>\n",
       "      <td>772.000000</td>\n",
       "      <td>803.000000</td>\n",
       "      <td>802.000000</td>\n",
       "      <td>642.000000</td>\n",
       "    </tr>\n",
       "    <tr>\n",
       "      <th>variation_of_information</th>\n",
       "      <td>0.0</td>\n",
       "      <td>0.895674</td>\n",
       "      <td>0.657490</td>\n",
       "      <td>0.364329</td>\n",
       "      <td>0.467421</td>\n",
       "      <td>0.372256</td>\n",
       "      <td>0.168663</td>\n",
       "      <td>0.565973</td>\n",
       "      <td>0.469096</td>\n",
       "      <td>0.265903</td>\n",
       "      <td>0.510686</td>\n",
       "      <td>0.414272</td>\n",
       "      <td>0.223403</td>\n",
       "    </tr>\n",
       "    <tr>\n",
       "      <th>map_score</th>\n",
       "      <td>0.0</td>\n",
       "      <td>0.006659</td>\n",
       "      <td>0.002757</td>\n",
       "      <td>0.019440</td>\n",
       "      <td>0.001580</td>\n",
       "      <td>0.001218</td>\n",
       "      <td>0.006450</td>\n",
       "      <td>0.009963</td>\n",
       "      <td>0.003386</td>\n",
       "      <td>0.011514</td>\n",
       "      <td>0.004881</td>\n",
       "      <td>0.002580</td>\n",
       "      <td>0.008737</td>\n",
       "    </tr>\n",
       "  </tbody>\n",
       "</table>\n",
       "</div>"
      ],
      "text/plain": [
       "                              rename  mistakes_all  mistakes_big  \\\n",
       "adjusted_rand_score              1.0      0.818480      0.766572   \n",
       "adjusted_mutual_info_score       1.0      0.874564      0.901472   \n",
       "normalized_mutual_info_score     1.0      0.880436      0.912824   \n",
       "fowlkes_mallows_score            1.0      0.835602      0.788575   \n",
       "jaccard_similarity_score         0.0      0.899940      0.899940   \n",
       "van_dongen                       0.0   1265.000000   1143.000000   \n",
       "variation_of_information         0.0      0.895674      0.657490   \n",
       "map_score                        0.0      0.006659      0.002757   \n",
       "\n",
       "                              mistakes_small  splits_all  splits_big  \\\n",
       "adjusted_rand_score                 0.971127    0.892631    0.850640   \n",
       "adjusted_mutual_info_score          0.947082    0.886708    0.908236   \n",
       "normalized_mutual_info_score        0.950925    0.942604    0.953488   \n",
       "fowlkes_mallows_score               0.973900    0.906232    0.871143   \n",
       "jaccard_similarity_score            0.899940    0.899940    0.899940   \n",
       "van_dongen                       1032.000000  667.000000  667.000000   \n",
       "variation_of_information            0.364329    0.467421    0.372256   \n",
       "map_score                           0.019440    0.001580    0.001218   \n",
       "\n",
       "                              splits_small  unites_all  unites_big  \\\n",
       "adjusted_rand_score               0.987858    0.885222    0.835223   \n",
       "adjusted_mutual_info_score        0.956129    0.884372    0.906053   \n",
       "normalized_mutual_info_score      0.978100    0.928647    0.939876   \n",
       "fowlkes_mallows_score             0.989062    0.899118    0.855434   \n",
       "jaccard_similarity_score          0.899940    0.899940    0.899940   \n",
       "van_dongen                      482.000000  958.000000  935.000000   \n",
       "variation_of_information          0.168663    0.565973    0.469096   \n",
       "map_score                         0.006450    0.009963    0.003386   \n",
       "\n",
       "                              unites_small  splits_unites_all  \\\n",
       "adjusted_rand_score               0.980030           0.889731   \n",
       "adjusted_mutual_info_score        0.955236           0.885610   \n",
       "normalized_mutual_info_score      0.964681           0.936515   \n",
       "fowlkes_mallows_score             0.981932           0.903452   \n",
       "jaccard_similarity_score          0.899940           0.899940   \n",
       "van_dongen                      772.000000         803.000000   \n",
       "variation_of_information          0.265903           0.510686   \n",
       "map_score                         0.011514           0.004881   \n",
       "\n",
       "                              splits_unites_big  splits_unites_small  \n",
       "adjusted_rand_score                    0.844269             0.983129  \n",
       "adjusted_mutual_info_score             0.907283             0.955517  \n",
       "normalized_mutual_info_score           0.947609             0.970574  \n",
       "fowlkes_mallows_score                  0.864760             0.984747  \n",
       "jaccard_similarity_score               0.899940             0.899940  \n",
       "van_dongen                           802.000000           642.000000  \n",
       "variation_of_information               0.414272             0.223403  \n",
       "map_score                              0.002580             0.008737  "
      ]
     },
     "execution_count": 27,
     "metadata": {},
     "output_type": "execute_result"
    }
   ],
   "source": [
    "results"
   ]
  },
  {
   "cell_type": "code",
   "execution_count": null,
   "metadata": {},
   "outputs": [],
   "source": []
  }
 ],
 "metadata": {
  "kernelspec": {
   "display_name": "Python 3",
   "language": "python",
   "name": "python3"
  },
  "language_info": {
   "codemirror_mode": {
    "name": "ipython",
    "version": 3
   },
   "file_extension": ".py",
   "mimetype": "text/x-python",
   "name": "python",
   "nbconvert_exporter": "python",
   "pygments_lexer": "ipython3",
   "version": "3.6.5"
  }
 },
 "nbformat": 4,
 "nbformat_minor": 2
}
