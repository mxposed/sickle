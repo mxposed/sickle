{
 "cells": [
  {
   "cell_type": "code",
   "execution_count": 1,
   "metadata": {},
   "outputs": [],
   "source": [
    "import pandas as pd\n",
    "import sklearn.metrics\n",
    "import numpy as np\n",
    "import dit\n",
    "from functools import wraps"
   ]
  },
  {
   "cell_type": "code",
   "execution_count": 2,
   "metadata": {},
   "outputs": [],
   "source": [
    "def results_matrix(x, y):\n",
    "    res = pd.DataFrame(index=sorted(x.unique()), columns=sorted(y.unique()))\n",
    "    for i in res.index:\n",
    "        res.loc[i,:] = y[(x[x == i]).index].value_counts(sort=False).sort_index()\n",
    "    return res.fillna(0)"
   ]
  },
  {
   "cell_type": "code",
   "execution_count": 3,
   "metadata": {},
   "outputs": [],
   "source": [
    "def van_dongen(x, y):\n",
    "    m = results_matrix(x, y)\n",
    "    n = m.sum().sum()\n",
    "    sum1 = np.sum((m.loc[i, :].max() for i in m.index))\n",
    "    sum2 = np.sum((m.loc[:, i].max() for i in m.columns))\n",
    "    return 2 * n - sum1 - sum2"
   ]
  },
  {
   "cell_type": "code",
   "execution_count": 4,
   "metadata": {},
   "outputs": [],
   "source": [
    "def variation_of_information(x, y):\n",
    "    m = results_matrix(x, y)\n",
    "    pmf = []\n",
    "    outs = []\n",
    "    n = m.sum().sum()\n",
    "    for i in m.index:\n",
    "        for j in m.columns:\n",
    "            p_i_j = m.loc[i, j] / n\n",
    "            outs.append((i, j))\n",
    "            pmf.append(p_i_j)\n",
    "    dist = dit.Distribution(outs, pmf=pmf)\n",
    "    x_ent = dit.shannon.entropy(dist, rvs=[0])\n",
    "    y_ent = dit.shannon.entropy(dist, rvs=[1])\n",
    "    mutual_info = dit.shannon.mutual_information(dist, rvs_X=[0], rvs_Y=[1])\n",
    "    return x_ent + y_ent - 2 * mutual_info"
   ]
  },
  {
   "cell_type": "code",
   "execution_count": 5,
   "metadata": {},
   "outputs": [],
   "source": [
    "def map_score(x, y):\n",
    "    m = results_matrix(x, y)\n",
    "    left_score = 0\n",
    "    for i in m.index:\n",
    "        max_idx = m.loc[i, :].idxmax()\n",
    "        left_score += (np.sum(m.loc[i, :]) - m.loc[i, max_idx]) / m.loc[i, max_idx]\n",
    "    left_score = left_score / m.shape[0] / (m.shape[1] - 1) / 2\n",
    "    \n",
    "    right_score = 0\n",
    "    for i in m.columns:\n",
    "        max_idx = m.loc[:,i].idxmax()\n",
    "        right_score += (np.sum(m.loc[:, i]) - m.loc[max_idx, i]) / m.loc[max_idx, i]\n",
    "    right_score = right_score / m.shape[1] / (m.shape[0] - 1) / 2\n",
    "    return left_score + right_score"
   ]
  },
  {
   "cell_type": "code",
   "execution_count": 6,
   "metadata": {},
   "outputs": [],
   "source": [
    "MEASURE_NAMES = ['adjusted_rand_score', \n",
    "            'adjusted_mutual_info_score', \n",
    "            'normalized_mutual_info_score',\n",
    "            'fowlkes_mallows_score',\n",
    "            'jaccard_similarity_score',\n",
    "            'cohen_kappa_score',\n",
    "           ]\n",
    "MEASURES = list(map(lambda x: getattr(sklearn.metrics, x), MEASURE_NAMES)) + \\\n",
    "           [van_dongen, variation_of_information, map_score]"
   ]
  },
  {
   "cell_type": "code",
   "execution_count": 7,
   "metadata": {},
   "outputs": [],
   "source": [
    "clusters = pd.read_csv('../01-cluster-sc01-sc02/SC01_assgn.csv')\n",
    "clusters.columns = ['Cell', 'Cluster']\n",
    "clusters.set_index('Cell', inplace=True)"
   ]
  },
  {
   "cell_type": "code",
   "execution_count": 8,
   "metadata": {},
   "outputs": [
    {
     "data": {
      "text/plain": [
       "0     1255\n",
       "1      819\n",
       "2      789\n",
       "3      721\n",
       "4      445\n",
       "5      410\n",
       "6      311\n",
       "7      281\n",
       "8      272\n",
       "9      214\n",
       "10     202\n",
       "11     197\n",
       "12     186\n",
       "13     177\n",
       "14     165\n",
       "15      89\n",
       "16      78\n",
       "17      55\n",
       "Name: Cluster, dtype: int64"
      ]
     },
     "execution_count": 8,
     "metadata": {},
     "output_type": "execute_result"
    }
   ],
   "source": [
    "clusters.Cluster.value_counts()"
   ]
  },
  {
   "cell_type": "code",
   "execution_count": 9,
   "metadata": {},
   "outputs": [],
   "source": [
    "def frac_size(sample, frac):\n",
    "    return len(sample.sample(frac=frac))"
   ]
  },
  {
   "cell_type": "code",
   "execution_count": 10,
   "metadata": {},
   "outputs": [],
   "source": [
    "def on_some(func, selector):\n",
    "    @wraps(func)\n",
    "    def inner(clusters, frac=0.1):\n",
    "        exp = clusters.copy()\n",
    "        idx = exp[selector(exp)].sample(n=frac_size(clusters, frac)).index\n",
    "        return func(exp, idx)\n",
    "    return inner\n",
    "\n",
    "def on_all(func):\n",
    "    return on_some(func, lambda exp: exp.index)\n",
    "\n",
    "def on_big(func):\n",
    "    return on_some(func, lambda exp: exp < BIG)\n",
    "\n",
    "def on_small(func):\n",
    "    return on_some(func, lambda exp: exp > SMALL)"
   ]
  },
  {
   "cell_type": "code",
   "execution_count": 11,
   "metadata": {},
   "outputs": [],
   "source": [
    "@on_all\n",
    "def rename(exp, idx):\n",
    "    exp[exp.index] += 18\n",
    "    return exp"
   ]
  },
  {
   "cell_type": "code",
   "execution_count": 12,
   "metadata": {},
   "outputs": [],
   "source": [
    "@on_all\n",
    "def mistakes_all(exp, idx):\n",
    "    exp[idx] -= 1\n",
    "    exp[exp == -1] = 17\n",
    "    return exp"
   ]
  },
  {
   "cell_type": "code",
   "execution_count": 13,
   "metadata": {},
   "outputs": [],
   "source": [
    "@on_big\n",
    "def mistakes_big(exp, idx):\n",
    "    exp[idx] -= 1\n",
    "    exp[exp == -1] = 17\n",
    "    return exp"
   ]
  },
  {
   "cell_type": "code",
   "execution_count": 14,
   "metadata": {},
   "outputs": [],
   "source": [
    "@on_small\n",
    "def mistakes_small(exp, idx):\n",
    "    exp[idx] -= 1\n",
    "    return exp"
   ]
  },
  {
   "cell_type": "code",
   "execution_count": 15,
   "metadata": {},
   "outputs": [],
   "source": [
    "@on_all\n",
    "def splits_all(exp, idx):\n",
    "    exp[idx] += 18\n",
    "    return exp"
   ]
  },
  {
   "cell_type": "code",
   "execution_count": 16,
   "metadata": {},
   "outputs": [],
   "source": [
    "@on_big\n",
    "def splits_big(exp, idx):\n",
    "    exp[idx] += 18\n",
    "    return exp"
   ]
  },
  {
   "cell_type": "code",
   "execution_count": 17,
   "metadata": {},
   "outputs": [],
   "source": [
    "@on_small\n",
    "def splits_small(exp, idx):\n",
    "    exp[idx] += 18\n",
    "    return exp"
   ]
  },
  {
   "cell_type": "code",
   "execution_count": 18,
   "metadata": {},
   "outputs": [],
   "source": [
    "@on_all\n",
    "def unites_all(exp, idx):\n",
    "    exp[idx] += 18\n",
    "    exp[(exp > 17) & (exp % 2 == 1)] -= 1\n",
    "    return exp"
   ]
  },
  {
   "cell_type": "code",
   "execution_count": 19,
   "metadata": {},
   "outputs": [],
   "source": [
    "@on_big\n",
    "def unites_big(exp, idx):\n",
    "    exp[idx] += 18\n",
    "    exp[(exp > 17) & (exp % 2 == 1)] -= 1\n",
    "    return exp"
   ]
  },
  {
   "cell_type": "code",
   "execution_count": 20,
   "metadata": {},
   "outputs": [],
   "source": [
    "@on_small\n",
    "def unites_small(exp, idx):\n",
    "    exp[idx] += 18\n",
    "    exp[(exp > 17) & (exp % 2 == 1)] -= 1\n",
    "    return exp"
   ]
  },
  {
   "cell_type": "code",
   "execution_count": 21,
   "metadata": {},
   "outputs": [],
   "source": [
    "@on_all\n",
    "def splits_unites_all(exp, idx):\n",
    "    exp[idx] += 18\n",
    "    exp[(exp > 17) & (exp % 4).isin((1,))] -= 1\n",
    "    return exp"
   ]
  },
  {
   "cell_type": "code",
   "execution_count": 22,
   "metadata": {},
   "outputs": [],
   "source": [
    "@on_big\n",
    "def splits_unites_big(exp, idx):\n",
    "    exp[idx] += 18\n",
    "    exp[(exp > 17) & (exp % 4).isin((1,))] -= 1\n",
    "    return exp"
   ]
  },
  {
   "cell_type": "code",
   "execution_count": 23,
   "metadata": {},
   "outputs": [],
   "source": [
    "@on_small\n",
    "def splits_unites_small(exp, idx):\n",
    "    exp[idx] += 18\n",
    "    exp[(exp > 17) & (exp % 4).isin((1,))] -= 1\n",
    "    return exp"
   ]
  },
  {
   "cell_type": "code",
   "execution_count": 24,
   "metadata": {},
   "outputs": [],
   "source": [
    "EXPERIMENTS = [\n",
    "    'rename',\n",
    "    'mistakes_all',\n",
    "    'mistakes_big',\n",
    "    'mistakes_small',\n",
    "    'splits_all',\n",
    "    'splits_big',\n",
    "    'splits_small',\n",
    "    'unites_all',\n",
    "    'unites_big',\n",
    "    'unites_small',\n",
    "    'splits_unites_all',\n",
    "    'splits_unites_big',\n",
    "    'splits_unites_small',\n",
    "]"
   ]
  },
  {
   "cell_type": "code",
   "execution_count": 25,
   "metadata": {},
   "outputs": [],
   "source": [
    "BIG = 4\n",
    "SMALL = 9\n",
    "for key in EXPERIMENTS:\n",
    "    clusters[key] = locals()[key](clusters.Cluster, frac=0.1)"
   ]
  },
  {
   "cell_type": "code",
   "execution_count": 26,
   "metadata": {},
   "outputs": [],
   "source": [
    "results = pd.DataFrame(index=[x.__name__ for x in MEASURES])\n",
    "for key in EXPERIMENTS:\n",
    "    res = []\n",
    "    for measure in MEASURES:\n",
    "        res.append(measure(clusters.Cluster, clusters[key]))\n",
    "    results[key] = res"
   ]
  },
  {
   "cell_type": "code",
   "execution_count": 27,
   "metadata": {},
   "outputs": [
    {
     "data": {
      "text/html": [
       "<div>\n",
       "<style scoped>\n",
       "    .dataframe tbody tr th:only-of-type {\n",
       "        vertical-align: middle;\n",
       "    }\n",
       "\n",
       "    .dataframe tbody tr th {\n",
       "        vertical-align: top;\n",
       "    }\n",
       "\n",
       "    .dataframe thead th {\n",
       "        text-align: right;\n",
       "    }\n",
       "</style>\n",
       "<table border=\"1\" class=\"dataframe\">\n",
       "  <thead>\n",
       "    <tr style=\"text-align: right;\">\n",
       "      <th></th>\n",
       "      <th>rename</th>\n",
       "      <th>mistakes_all</th>\n",
       "      <th>mistakes_big</th>\n",
       "      <th>mistakes_small</th>\n",
       "      <th>splits_all</th>\n",
       "      <th>splits_big</th>\n",
       "      <th>splits_small</th>\n",
       "      <th>unites_all</th>\n",
       "      <th>unites_big</th>\n",
       "      <th>unites_small</th>\n",
       "      <th>splits_unites_all</th>\n",
       "      <th>splits_unites_big</th>\n",
       "      <th>splits_unites_small</th>\n",
       "    </tr>\n",
       "  </thead>\n",
       "  <tbody>\n",
       "    <tr>\n",
       "      <th>adjusted_rand_score</th>\n",
       "      <td>1.0</td>\n",
       "      <td>0.812389</td>\n",
       "      <td>0.766745</td>\n",
       "      <td>0.971039</td>\n",
       "      <td>0.894717</td>\n",
       "      <td>0.849268</td>\n",
       "      <td>0.987869</td>\n",
       "      <td>0.885970</td>\n",
       "      <td>0.835910</td>\n",
       "      <td>0.979844</td>\n",
       "      <td>0.891815</td>\n",
       "      <td>0.845596</td>\n",
       "      <td>0.983552</td>\n",
       "    </tr>\n",
       "    <tr>\n",
       "      <th>adjusted_mutual_info_score</th>\n",
       "      <td>1.0</td>\n",
       "      <td>0.875596</td>\n",
       "      <td>0.901360</td>\n",
       "      <td>0.947183</td>\n",
       "      <td>0.886603</td>\n",
       "      <td>0.908144</td>\n",
       "      <td>0.956253</td>\n",
       "      <td>0.884372</td>\n",
       "      <td>0.906095</td>\n",
       "      <td>0.954997</td>\n",
       "      <td>0.885907</td>\n",
       "      <td>0.907230</td>\n",
       "      <td>0.955659</td>\n",
       "    </tr>\n",
       "    <tr>\n",
       "      <th>normalized_mutual_info_score</th>\n",
       "      <td>1.0</td>\n",
       "      <td>0.882788</td>\n",
       "      <td>0.912535</td>\n",
       "      <td>0.951019</td>\n",
       "      <td>0.942559</td>\n",
       "      <td>0.953440</td>\n",
       "      <td>0.978163</td>\n",
       "      <td>0.928727</td>\n",
       "      <td>0.939848</td>\n",
       "      <td>0.964511</td>\n",
       "      <td>0.936662</td>\n",
       "      <td>0.947393</td>\n",
       "      <td>0.970948</td>\n",
       "    </tr>\n",
       "    <tr>\n",
       "      <th>fowlkes_mallows_score</th>\n",
       "      <td>1.0</td>\n",
       "      <td>0.830072</td>\n",
       "      <td>0.788722</td>\n",
       "      <td>0.973821</td>\n",
       "      <td>0.907996</td>\n",
       "      <td>0.870009</td>\n",
       "      <td>0.989072</td>\n",
       "      <td>0.899771</td>\n",
       "      <td>0.855995</td>\n",
       "      <td>0.981764</td>\n",
       "      <td>0.905233</td>\n",
       "      <td>0.865787</td>\n",
       "      <td>0.985132</td>\n",
       "    </tr>\n",
       "    <tr>\n",
       "      <th>jaccard_similarity_score</th>\n",
       "      <td>0.0</td>\n",
       "      <td>0.899940</td>\n",
       "      <td>0.899940</td>\n",
       "      <td>0.899940</td>\n",
       "      <td>0.899940</td>\n",
       "      <td>0.899940</td>\n",
       "      <td>0.899940</td>\n",
       "      <td>0.899940</td>\n",
       "      <td>0.899940</td>\n",
       "      <td>0.899940</td>\n",
       "      <td>0.899940</td>\n",
       "      <td>0.899940</td>\n",
       "      <td>0.899940</td>\n",
       "    </tr>\n",
       "    <tr>\n",
       "      <th>cohen_kappa_score</th>\n",
       "      <td>0.0</td>\n",
       "      <td>0.889684</td>\n",
       "      <td>0.889960</td>\n",
       "      <td>0.889359</td>\n",
       "      <td>0.890509</td>\n",
       "      <td>0.891101</td>\n",
       "      <td>0.889687</td>\n",
       "      <td>0.890546</td>\n",
       "      <td>0.891097</td>\n",
       "      <td>0.889689</td>\n",
       "      <td>0.890520</td>\n",
       "      <td>0.891080</td>\n",
       "      <td>0.889689</td>\n",
       "    </tr>\n",
       "    <tr>\n",
       "      <th>van_dongen</th>\n",
       "      <td>0.0</td>\n",
       "      <td>1242.000000</td>\n",
       "      <td>1150.000000</td>\n",
       "      <td>1028.000000</td>\n",
       "      <td>667.000000</td>\n",
       "      <td>667.000000</td>\n",
       "      <td>482.000000</td>\n",
       "      <td>953.000000</td>\n",
       "      <td>934.000000</td>\n",
       "      <td>776.000000</td>\n",
       "      <td>793.000000</td>\n",
       "      <td>800.000000</td>\n",
       "      <td>631.000000</td>\n",
       "    </tr>\n",
       "    <tr>\n",
       "      <th>variation_of_information</th>\n",
       "      <td>0.0</td>\n",
       "      <td>0.879453</td>\n",
       "      <td>0.659524</td>\n",
       "      <td>0.363636</td>\n",
       "      <td>0.467819</td>\n",
       "      <td>0.372665</td>\n",
       "      <td>0.168166</td>\n",
       "      <td>0.565439</td>\n",
       "      <td>0.469262</td>\n",
       "      <td>0.267209</td>\n",
       "      <td>0.509376</td>\n",
       "      <td>0.415823</td>\n",
       "      <td>0.220653</td>\n",
       "    </tr>\n",
       "    <tr>\n",
       "      <th>map_score</th>\n",
       "      <td>0.0</td>\n",
       "      <td>0.005900</td>\n",
       "      <td>0.002801</td>\n",
       "      <td>0.019281</td>\n",
       "      <td>0.001705</td>\n",
       "      <td>0.001206</td>\n",
       "      <td>0.006340</td>\n",
       "      <td>0.008925</td>\n",
       "      <td>0.003326</td>\n",
       "      <td>0.011704</td>\n",
       "      <td>0.004405</td>\n",
       "      <td>0.002469</td>\n",
       "      <td>0.008715</td>\n",
       "    </tr>\n",
       "  </tbody>\n",
       "</table>\n",
       "</div>"
      ],
      "text/plain": [
       "                              rename  mistakes_all  mistakes_big  \\\n",
       "adjusted_rand_score              1.0      0.812389      0.766745   \n",
       "adjusted_mutual_info_score       1.0      0.875596      0.901360   \n",
       "normalized_mutual_info_score     1.0      0.882788      0.912535   \n",
       "fowlkes_mallows_score            1.0      0.830072      0.788722   \n",
       "jaccard_similarity_score         0.0      0.899940      0.899940   \n",
       "cohen_kappa_score                0.0      0.889684      0.889960   \n",
       "van_dongen                       0.0   1242.000000   1150.000000   \n",
       "variation_of_information         0.0      0.879453      0.659524   \n",
       "map_score                        0.0      0.005900      0.002801   \n",
       "\n",
       "                              mistakes_small  splits_all  splits_big  \\\n",
       "adjusted_rand_score                 0.971039    0.894717    0.849268   \n",
       "adjusted_mutual_info_score          0.947183    0.886603    0.908144   \n",
       "normalized_mutual_info_score        0.951019    0.942559    0.953440   \n",
       "fowlkes_mallows_score               0.973821    0.907996    0.870009   \n",
       "jaccard_similarity_score            0.899940    0.899940    0.899940   \n",
       "cohen_kappa_score                   0.889359    0.890509    0.891101   \n",
       "van_dongen                       1028.000000  667.000000  667.000000   \n",
       "variation_of_information            0.363636    0.467819    0.372665   \n",
       "map_score                           0.019281    0.001705    0.001206   \n",
       "\n",
       "                              splits_small  unites_all  unites_big  \\\n",
       "adjusted_rand_score               0.987869    0.885970    0.835910   \n",
       "adjusted_mutual_info_score        0.956253    0.884372    0.906095   \n",
       "normalized_mutual_info_score      0.978163    0.928727    0.939848   \n",
       "fowlkes_mallows_score             0.989072    0.899771    0.855995   \n",
       "jaccard_similarity_score          0.899940    0.899940    0.899940   \n",
       "cohen_kappa_score                 0.889687    0.890546    0.891097   \n",
       "van_dongen                      482.000000  953.000000  934.000000   \n",
       "variation_of_information          0.168166    0.565439    0.469262   \n",
       "map_score                         0.006340    0.008925    0.003326   \n",
       "\n",
       "                              unites_small  splits_unites_all  \\\n",
       "adjusted_rand_score               0.979844           0.891815   \n",
       "adjusted_mutual_info_score        0.954997           0.885907   \n",
       "normalized_mutual_info_score      0.964511           0.936662   \n",
       "fowlkes_mallows_score             0.981764           0.905233   \n",
       "jaccard_similarity_score          0.899940           0.899940   \n",
       "cohen_kappa_score                 0.889689           0.890520   \n",
       "van_dongen                      776.000000         793.000000   \n",
       "variation_of_information          0.267209           0.509376   \n",
       "map_score                         0.011704           0.004405   \n",
       "\n",
       "                              splits_unites_big  splits_unites_small  \n",
       "adjusted_rand_score                    0.845596             0.983552  \n",
       "adjusted_mutual_info_score             0.907230             0.955659  \n",
       "normalized_mutual_info_score           0.947393             0.970948  \n",
       "fowlkes_mallows_score                  0.865787             0.985132  \n",
       "jaccard_similarity_score               0.899940             0.899940  \n",
       "cohen_kappa_score                      0.891080             0.889689  \n",
       "van_dongen                           800.000000           631.000000  \n",
       "variation_of_information               0.415823             0.220653  \n",
       "map_score                              0.002469             0.008715  "
      ]
     },
     "execution_count": 27,
     "metadata": {},
     "output_type": "execute_result"
    }
   ],
   "source": [
    "results"
   ]
  },
  {
   "cell_type": "code",
   "execution_count": null,
   "metadata": {},
   "outputs": [],
   "source": []
  }
 ],
 "metadata": {
  "kernelspec": {
   "display_name": "Python 3",
   "language": "python",
   "name": "python3"
  },
  "language_info": {
   "codemirror_mode": {
    "name": "ipython",
    "version": 3
   },
   "file_extension": ".py",
   "mimetype": "text/x-python",
   "name": "python",
   "nbconvert_exporter": "python",
   "pygments_lexer": "ipython3",
   "version": "3.6.5"
  }
 },
 "nbformat": 4,
 "nbformat_minor": 2
}
